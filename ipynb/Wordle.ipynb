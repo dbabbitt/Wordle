{
 "cells": [
  {
   "cell_type": "code",
   "execution_count": 1,
   "id": "106b0dba-a6f2-479a-828c-c3c3483eabe3",
   "metadata": {},
   "outputs": [],
   "source": [
    "\n",
    "import sys\n",
    "sys.path.insert(1, '../py')\n",
    "import wordle_utils\n",
    "w = wordle_utils.WordleUtilities()"
   ]
  },
  {
   "cell_type": "code",
   "execution_count": 2,
   "id": "53252625-7de4-4031-a94c-8ca6248b51ac",
   "metadata": {},
   "outputs": [
    {
     "name": "stdout",
     "output_type": "stream",
     "text": [
      "Pretty printing has been turned OFF\n"
     ]
    },
    {
     "data": {
      "text/plain": [
       "['__class__', '__delattr__', '__dict__', '__dir__', '__doc__', '__eq__', '__format__', '__ge__', '__getattribute__', '__gt__', '__hash__', '__init__', '__init_subclass__', '__le__', '__lt__', '__module__', '__ne__', '__new__', '__reduce__', '__reduce_ex__', '__repr__', '__setattr__', '__sizeof__', '__str__', '__subclasshook__', '__weakref__', 'conjunctify_nouns', 'display_the_difference', 'get_best_word', 'get_candidates_list', 'get_greens_set', 'get_greys_list', 'get_proportion_score', 'get_tr', 'get_word_guess', 'get_yellows_list', 'get_yellows_set', 'is_greened', 'maximize_green_responses_to_solve_a_wordle', 'measure_word', 'minimize_branches_to_solve_a_wordle', 'patternize_guess', 'quordle_url', 'response_patterns_df', 's', 'surf_to_quordle_website', 'surf_to_wordle_website', 'wordle_url', 'words_list']"
      ]
     },
     "execution_count": 2,
     "metadata": {},
     "output_type": "execute_result"
    }
   ],
   "source": [
    "\n",
    "%pprint\n",
    "dir(w)"
   ]
  },
  {
   "cell_type": "markdown",
   "id": "21b52ff2-71c8-4a47-93e7-4e0846491d47",
   "metadata": {},
   "source": [
    "\n",
    "----\n",
    "# Minimize Branches to Solve a Wordle"
   ]
  },
  {
   "cell_type": "code",
   "execution_count": 3,
   "id": "48315979-642e-442e-a129-ddbcf65630b1",
   "metadata": {},
   "outputs": [
    {
     "name": "stdout",
     "output_type": "stream",
     "text": [
      "list of possible solutions: 12,972\n",
      "FIRST MOVE: reals\n"
     ]
    }
   ],
   "source": [
    "\n",
    "w.minimize_branches_to_solve_a_wordle()"
   ]
  },
  {
   "cell_type": "code",
   "execution_count": 4,
   "id": "e699b249-bbea-44d0-9c4e-5eb14956cd48",
   "metadata": {},
   "outputs": [
    {
     "name": "stdout",
     "output_type": "stream",
     "text": [
      "list of possible solutions (2,029): aalii, aargh, aarti, abaft, abaka, abamp, abaya, abbot, abhor, ablow, abmho, abohm, aboil, aboma, abord, abort, about, abram, abray, abrim, abuzz, adapt, adbot, addax, addio, admit, admix, adobo, adopt, adrad, aduki, adult, adyta, afald, afara, affix, aflaj, afoot, afoul, afrit, agama, agami, aggri, aggro, aggry, agila, agita, agloo, aglow, agood, agora, agria, aguti, ahigh, ahold, ahull, ahuru, aidoi, aight, aioli, airth, ajiva, ajuga, akita, alaap, alamo, alapa, alarm, alary, album, aldol, algal, algid, algor, algum, alibi, aliya, alkyd, alkyl, allay, allod, allot, allow, alloy, allyl, almah, almud, almug, aloft, aloha, aloof, aloud, alpha, altar, altho, alula, alvar, alway, amaut, ambit, ambry, amido, amiga, amigo, amity, amort, amour, amowt, amply, ampul, amrit, aorta, apaid, apart, apayd, apgar, aphid, apiol, apoop, aport, appal, appay, apply, appro, appui, appuy, aptly, araba, arbor, ardor, ardri, argal, argil, argol, argot, arhat, ariki, ariot, armil, armor, aroba, aroha, aroid, aroma, arrah, array, arrow, arroz, artal, arval, ataxy, atigi, atilt, atimy, atoll, atomy, atopy, atria, atrip, attap, attar, audad, audio, audit, aught, augur, auloi, aumil, aural, aurar, aurum, avail, avoid, await, award, awato, awful, awmry, awork, axial, axiom, axoid, ayaya, azido, azoth, azuki, azury, azygy, babka, baboo, babul, baddy, badly, baffy, baggy, bahut, baith, baiza, bajra, bajri, bakra, baldy, balky, bally, balmy, baloo, balti, bambi, barby, bardo, bardy, barfi, barky, barmy, barra, barro, barry, batik, batta, battu, batty, baulk, bawdy, bawty, bayou, bazar, bazoo, bhaji, bhoot, biali, bialy, biddy, biffo, biffy, bifid, biggy, bigha, bight, bigly, bigot, bijou, bilbo, bilby, bilgy, billy, bimah, bimbo, biota, bipod, birth, bitou, bitty, bivia, bivvy, bizzo, bizzy, blady, blaff, blart, blatt, blaud, blimp, blimy, blitz, bloat, blood, blook, bloom, bloop, blowy, bludy, bluff, bluid, blurb, blurt, board, boart, bobak, bobby, bobol, bodhi, boffo, boggy, bolar, bolix, bombo, booai, booay, booby, boody, boofy, boogy, booky, boomy, boord, booth, booty, boozy, boppy, borak, boral, borax, borgo, borty, bortz, bothy, botty, bough, boult, bourd, bourg, bovid, bowat, boxla, boxty, boyar, boyau, boyla, braai, braid, brail, braky, brava, bravi, bravo, brawl, braxy, braza, briar, briki, brill, brith, britt, broad, brogh, broil, bromo, brood, brook, brool, broom, broth, brugh, bruit, bubal, bubba, bubby, buddy, buffa, buffi, buffo, buffy, bufty, buggy, build, built, bulgy, bulky, bulla, bully, bumbo, bumph, bumpy, buppy, burfi, burgh, burka, burly, buroo, burqa, burro, burry, butoh, butty, butut, butyl, buxom, buzzy, bwazi, bylaw, byway, dabba, dadah, daddy, daffy, dagga, daggy, daiko, daily, dairy, dally, damar, dampy, daraf, darga, darky, darzi, datal, datto, datum, dauby, dault, davit, dawah, dhaba, dhikr, dhobi, dholl, dhoti, dhuti, diary, diazo, diddy, dight, digit, dildo, dilli, dilly, dimbo, dimly, diota, dippy, diram, dirty, dital, ditto, ditty, ditzy, divot, divvy, dixit, dizzy, dobby, dobla, dobra, dobro, doddy, dodgy, doggo, doggy, dogma, dohyo, doilt, doily, dolia, dolly, dolma, dolor, domal, doody, dooly, doomy, doozy, dorad, dorba, dorky, dormy, dorty, dotal, dotty, douar, doubt, dough, doula, douma, doura, dowar, dowdy, dowly, dowry, doyly, draff, draft, drail, drama, drawl, drift, drill, drily, dript, droid, droil, droit, droll, droob, droog, drook, drool, droop, dropt, drouk, druid, druxy, dryad, dryly, dubbo, duddy, dukka, dulia, dully, dumbo, dumka, dumky, dummy, dumpy, duomi, duomo, duply, duppy, dural, durgy, duroy, durra, durry, durum, durzi, dwaal, dwalm, dwarf, dwaum, fabby, faddy, faffy, faggy, fagot, fairy, faith, fakir, falaj, faqir, farad, farro, fatal, fatly, fatty, fatwa, faugh, fauld, fault, faurd, favor, fibro, fifth, fifty, figgy, fight, filar, filii, fillo, filly, filmi, filmy, filth, filum, fiord, firry, firth, fitly, fixit, fizzy, fjord, flaff, flail, flair, flaky, flamm, flamy, flary, flava, flawy, flaxy, flimp, flirt, flitt, float, flood, floor, flora, flory, flota, flour, flout, fluff, fluid, fluky, flump, fluor, flurr, fluty, fluyt, flyby, foamy, foggy, fogou, folia, folio, folky, folly, foody, footy, foram, foray, forby, fordo, forgo, forky, forth, forty, forum, forza, fouat, fouth, fowth, frail, fraim, frati, fraud, friar, frill, frith, fritt, fritz, frizz, frory, froth, frowy, fruit, frump, fubar, fubby, fuddy, fudgy, fuffy, fugal, fuggy, fugio, fugly, fully, fural, furol, furor, furry, furth, furzy, fuzil, fuzzy, gabba, gabby, gaddi, gadid, gadjo, gaily, gaita, gaitt, galah, galax, gally, galop, galut, galvo, gamay, gamba, gambo, gamma, gammy, gamut, gappy, garbo, garda, garth, garum, gator, gaudy, gault, gaumy, gauzy, gavot, gawky, gayal, gayly, gazal, gazar, gazoo, ghaut, ghazi, ghoul, ghyll, gibli, giddy, gigot, gilly, gilpy, gimpy, gippo, gippy, girly, girth, gizmo, glady, glaik, glair, glary, glaum, glaur, glazy, glial, gliff, glift, glitz, gloam, gloat, globi, globy, glogg, gloom, gloop, glory, glout, glyph, goary, goaty, gobar, gobbi, gobbo, gobby, godly, gogga, goldy, golly, gombo, gompa, gooby, goody, goofy, gooky, goold, gooly, goopy, goory, gopak, gopik, goral, gormy, gothy, gotta, goura, gourd, gouty, goyim, graal, graff, graft, grail, graip, grama, gramp, graph, grapy, gravy, griff, grift, grill, grimy, griot, gript, gripy, grith, groat, grody, groma, groof, groom, grouf, group, grout, grovy, growl, grrrl, gruff, grump, grypt, guard, guava, guild, guilt, guimp, guiro, gulag, gular, gulfy, gully, gulph, gulpy, gumbo, gumma, gummi, gummy, guppy, gurdy, gurly, gurry, gutta, gutty, guyot, gyoza, gyppo, gyppy, gyral, habit, hadal, hadji, hafiz, haika, haiku, haily, hairy, haith, hajji, hakam, hakim, halal, halfa, halid, hallo, halma, halva, halwa, hamal, hamba, hammy, hamza, haoma, hapax, haply, happi, happy, haram, hardy, harim, harpy, harry, hatha, haugh, hauld, haulm, hault, hight, hijab, hijra, hikoi, hilar, hillo, hilly, hilum, himbo, hiply, hippo, hippy, hoagy, hoard, hoary, hobby, hodad, hodja, hokku, hokum, holla, hollo, holly, hoody, hooka, hooky, hooly, hoord, hooty, hopak, hoppy, horah, horal, hotly, hotty, houff, hough, houri, howdy, howff, hubby, hudud, huffy, huggy, hulky, hullo, hully, humid, humor, humph, humpy, hurly, hurra, hurry, hutia, huzza, huzzy, hydra, hydro, hyoid, hypha, hyphy, hyrax, iambi, ibrik, idiom, idiot, idola, idyll, iftar, igapo, igloo, ihram, iliad, ilial, ilium, illth, imago, imari, imaum, imbar, imido, immit, immix, imply, impot, impro, iodid, iroko, ivory, ixora, izard, izzat, jabot, jaffa, jaggy, jagir, jagra, jalap, jalop, jambo, jambu, jammy, jarta, jarul, jazzy, jhala, jibba, jiffy, jiggy, jigot, jihad, jimmy, jimpy, jirga, jokol, jolly, jolty, joram, jorum, jotty, joual, jowar, jowly, judgy, jugal, jugum, jumar, jumbo, jumby, jumpy, jural, jurat, juror, jutty, kaama, kabab, kabar, kabob, kadai, kafir, kahal, kaiak, kaika, kalam, kalif, kalpa, kamik, kapok, kapow, kappa, kaput, karat, karma, karoo, karri, karzy, katal, katti, kaugh, kauri, kauru, kaury, kaval, kawau, kayak, kazoo, khadi, khaki, khaph, khaya, khazi, khoja, khoum, kiaat, kibbi, kibla, kiddo, kiddy, kight, kikoi, kilim, kilty, kimbo, kippa, kirby, kirri, kitty, kitul, kloof, klutz, koala, kofta, kogal, kokam, kokra, kokum, kombu, kooky, koori, koppa, korai, korat, korma, kotow, koura, kraal, kraft, krait, kraut, krill, krubi, kudzu, kukri, kulak, kulfi, kurta, kylix, laari, labda, labia, labor, labra, laddy, lahal, lahar, laigh, laika, laird, lairy, laith, laity, laldy, lamby, lamia, lammy, lardy, largo, larky, larum, larva, latah, lathi, lathy, laugh, laura, laval, lavra, lavvy, laxly, layup, lazar, lazzi, lazzo, liard, liart, libra, libri, lidar, light, limax, limba, limbi, limbo, limby, limit, limma, limpa, lipid, lippy, lirot, litai, litho, livid, livor, llama, loamy, loath, lobar, lobby, lofty, loggy, logia, logoi, lolly, lolog, looby, loofa, looky, loopy, loord, loppy, loral, lordy, lorry, lotah, lotta, lotto, lough, louma, loury, lovat, lowly, lowry, loyal, lubra, luffa, lumbi, lummy, lumpy, lurgi, lurgy, lurid, lurry, luvvy, lyard, lyart, lymph, lytta, madam, madid, madly, mafia, magma, magot, mahua, mahwa, maiko, maill, major, makar, malam, malar, malax, malik, malmy, malty, malva, malwa, mamba, mambo, mamma, mammy, mapau, maqui, marah, mardy, maria, marid, marka, marly, maror, marra, marri, marry, marvy, matai, matlo, matza, matzo, mauby, mauri, mauzy, mawky, maxim, mayor, mazut, mbira, mhorr, miaou, miaow, miaul, middy, midgy, miffy, mifty, might, mikra, mikva, milia, milko, milky, milor, milpa, milty, miltz, mirid, mirky, mirly, mirth, mirza, mixup, mizzy, mobby, modal, modii, moggy, mogul, mohua, mohur, moira, molal, molar, moldy, molla, molly, molto, momma, mommy, moody, moola, mooli, mooly, moory, moppy, moral, morat, moray, moria, morph, morra, morro, mothy, motif, motor, motto, motty, motza, mould, moult, mouth, mowra, muddy, mudir, mudra, mufti, mugga, muggy, muhly, mujik, mulga, mulla, mummy, mural, murid, murky, murly, murra, murri, murry, murti, murva, mutha, muzak, muzzy, myall, mylar, myoid, myoma, myopy, myrrh, mythi, mythy, oakum, obiit, oboli, oddly, odium, odour, offal, oflag, ogham, oidia, okapi, ollav, ology, omlah, omrah, oobit, oomph, ootid, opium, orbit, orgia, oribi, orixa, orlop, ortho, orval, otaku, otary, ottar, oubit, ought, ouija, outby, outdo, outgo, outro, outta, ovary, ovoid, ovoli, ovolo, oxbow, oxlip, paddy, padma, padri, pagod, pagri, pakka, palay, palki, palla, pally, palmy, palpi, pampa, paoli, paolo, papal, papaw, pappi, pappy, pardi, pardy, pargo, parka, parki, parky, parly, parma, parol, parra, parry, parti, party, parvo, patio, patka, patly, patty, pavid, pawaw, pawky, payor, pharm, phial, phizz, phlox, photo, phpht, phyla, pibal, piggy, pight, pigmy, pikau, pikul, pilaf, pilao, pilar, pilau, pilaw, pilot, pilow, pilum, pipal, pipit, pippy, pipul, pirai, pirog, pithy, pitot, pitta, pivot, pizza, plaid, plait, platt, platy, playa, plaza, ploat, plook, plotz, plouk, pluff, plumb, plump, plumy, pluot, pluto, poaka, poboy, podal, poddy, podgy, podia, poilu, pokal, polar, polio, polka, polly, polyp, pommy, poofy, pooja, pooka, poopy, poori, poort, poovy, poppa, poppy, poral, porgy, porky, porta, porty, potoo, potto, potty, pouff, poulp, poult, poupt, pouty, poyou, pozzy, praam, prahu, pratt, praty, prial, prill, prima, primi, primo, primp, primy, prior, privy, proll, promo, proof, proto, proud, proul, prowl, proxy, pruta, puddy, pudgy, pudor, puffa, puffy, puggy, pugil, pujah, pukka, pulao, pulik, pulka, pulli, pully, pulmo, pulpy, pupal, pupil, puppy, purda, purpy, purty, putid, putti, putto, putty, pygal, pygmy, pyoid, pyral, pzazz, qajaq, qapik, qibla, qorma, quaff, quail, quair, quaky, qualm, quark, quart, quayd, qubit, quiff, quill, quilt, quipo, quipu, quirk, quirt, quoad, quoif, quoit, quoll, quota, quoth, rabat, rabbi, rabid, radar, radii, radio, radix, ragga, raggy, rahui, raird, raita, rajah, rakia, rally, ralph, ramal, rammy, rapid, ratal, ratha, ratio, ratoo, ratty, raupo, rawly, rayah, razoo, razor, rhody, rhomb, rhumb, rhyta, riata, ribby, ridgy, rifty, right, rigid, rigol, rigor, rioja, ritzy, rival, riyal, roary, robot, roguy, roily, rojak, rolag, romal, roofy, rooky, roomy, roopy, rooty, roral, rorid, rorty, rotal, rotor, rough, roupy, routh, rowdy, rowth, royal, rozit, rubai, rubby, rubli, ruddy, rugal, rugby, ruggy, rumal, rumba, rumbo, rumly, rummy, rumor, rumpo, rumpy, rupia, rural, rutty, rybat, taata, tabby, tabid, tabla, taboo, tabor, taffy, tafia, taggy, tagma, taiga, taiko, taira, takhi, takky, talak, talaq, talar, talky, tally, talma, talpa, taluk, tamal, tammy, tapir, tappa, tardo, tardy, targa, tarok, tarot, tarry, tarty, tatar, tatou, tatty, tauld, tavah, tawai, taxol, taxor, tayra, tazza, thagi, thaim, thali, tharm, thawy, thigh, thilk, thill, thiol, third, thirl, thoft, tholi, thoro, thorp, thowl, thraw, thrid, thrip, throb, throw, thrum, thuja, thumb, thump, thurl, thuya, thymi, thymy, tiara, tibia, tidal, tiddy, tight, tikka, tilak, tilly, tilth, timbo, timid, tippy, titty, titup, tizzy, toady, today, toddy, toffy, tokay, tolar, tolly, tolyl, tomia, tommy, tooth, topaz, tophi, topoi, toppy, torah, torii, torot, torta, total, totty, tough, touzy, towzy, tragi, traik, trail, trait, tramp, trapt, tratt, trawl, trayf, triad, trial, triff, trigo, trild, trill, triol, trior, tripy, troad, troak, troat, troll, tromp, troop, trooz, troth, trout, trugo, trull, truly, trump, truth, tryma, tuart, tuath, tubal, tubar, tubby, tufty, tugra, tuktu, tulip, tulpa, tumid, tummy, tumor, tumpy, tupik, turbo, turfy, tutor, tutti, tutty, twill, twilt, twirl, twirp, twixt, typal, typto, ugali, uhuru, ulama, ultra, umami, umbra, umiak, umiaq, ummah, umpty, umrah, upbow, updry, uplay, uplit, uptak, urali, urari, urbia, urial, urubu, uvula, vagal, vairy, vakil, valid, valor, vampy, vapid, vapor, vardy, varia, varix, vault, vifda, vigia, vigil, vigor, villa, villi, viola, viold, viral, virga, virid, virtu, vital, vitro, vitta, vivat, vivda, vivid, vizir, vizor, voddy, vodka, vodou, voila, volar, volta, volti, volva, vomit, voulu, vozhd, vroom, vrouw, vuggy, vughy, vulgo, vulva, vutty, waddy, wagga, wagyu, wahoo, waift, waldo, walla, wally, walty, waltz, warby, warty, watap, wauff, waugh, waulk, wazir, wazoo, whamo, wharf, whata, whaup, whaur, whiff, whift, whilk, whipt, whirl, whirr, whity, whizz, whomp, whoof, whoop, whoot, whorl, whort, whump, whyda, widdy, widow, width, wifty, wigga, wiggy, wight, wilga, wilja, willy, wimpy, wirra, withy, witty, woald, woful, wokka, wolly, womby, woody, woofy, woold, wooly, woopy, wootz, woozy, wordy, world, wormy, worry, worth, would, wrapt, wrath, wrawl, wroot, wroth, wryly, wuddy, wuxia, xylol, xylyl, yabba, yabby, yahoo, yaird, yakka, yakow, yampy, yapok, yappy, yarak, yarfa, yarta, yarto, yauld, ydrad, yippy, yirth, ymolt, yobbo, yobby, yokul, yolky, yomim, yourt, youth, yowza, yrapt, yrivd, yukky, yummo, yummy, yuppy, yurta, zabra, zaida, zaidy, zakat, zambo, zamia, zappy, zhomo, zilla, zimbi, zippo, zippy, ziram, zizit, zloty, zombi, zooid, zooty, zoppa, zoppo, zoril, zorro, zuppa, zuzim, and zygal\n",
      "SECOND MOVE: riyal\n"
     ]
    }
   ],
   "source": [
    "\n",
    "testwords_list = ['scene']\n",
    "response_patterns_list = ['xxxxx']\n",
    "w.minimize_branches_to_solve_a_wordle(testwords_list, response_patterns_list)"
   ]
  },
  {
   "cell_type": "code",
   "execution_count": 6,
   "id": "7c1ba5cb-d581-4bfe-b6bb-4f3704410ac2",
   "metadata": {},
   "outputs": [
    {
     "name": "stdout",
     "output_type": "stream",
     "text": [
      "list of possible solutions (499): aalii, abaka, abamp, abaya, abuzz, addax, admix, aduki, afald, affix, aflaj, agama, agami, agila, ahigh, ahull, ajiva, ajuga, alaap, alapa, album, algal, algid, algum, alibi, aliya, alkyd, alkyl, allay, allyl, almah, almud, almug, alpha, alula, amiga, amply, ampul, apaid, apayd, aphid, appal, appay, apply, appui, appuy, audad, aumil, avail, axial, ayaya, azuki, azygy, babka, babul, baddy, badly, baffy, baggy, baiza, baldy, balky, bally, balmy, bambi, baulk, bhaji, biali, bialy, biddy, biffy, bifid, biggy, bigha, bigly, bilby, bilgy, billy, bimah, bivia, bivvy, bizzy, blady, blaff, blaud, blimp, blimy, bludy, bluff, bluid, bubal, bubba, bubby, buddy, buffa, buffi, buffy, buggy, build, bulgy, bulky, bulla, bully, bumph, bumpy, buppy, buzzy, dabba, dadah, daddy, daffy, dagga, daggy, daily, dally, dampy, dauby, dhaba, diddy, dilli, dilly, dimly, dippy, divvy, dizzy, duddy, dukka, dulia, dully, dumka, dumky, dummy, dumpy, duply, duppy, fabby, faddy, faffy, faggy, falaj, faugh, fauld, figgy, filii, filly, filmi, filmy, filum, fizzy, flaff, flail, flaky, flamm, flamy, flava, flaxy, flimp, fluff, fluid, fluky, flump, flyby, fubby, fuddy, fudgy, fuffy, fugal, fuggy, fugly, fully, fuzil, fuzzy, gabba, gabby, gaddi, gadid, gaily, galah, galax, gally, gamay, gamba, gamma, gammy, gappy, gaudy, gaumy, gauzy, gayal, gayly, gazal, ghazi, ghyll, gibli, giddy, gilly, gilpy, gimpy, gippy, glady, glaik, glaum, glazy, glial, gliff, glyph, guava, guild, guimp, gulag, gulfy, gully, gulph, gulpy, gumma, gummi, gummy, guppy, gyppy, hadal, hadji, hafiz, haika, haiku, haily, hajji, hakam, hakim, halal, halfa, halid, halma, halva, hamal, hamba, hammy, hamza, hapax, haply, happi, happy, haugh, hauld, haulm, hijab, hilly, hilum, hiply, hippy, hubby, hudud, huffy, huggy, hulky, hully, humid, humph, humpy, huzza, huzzy, hypha, hyphy, iambi, idyll, iliad, ilial, ilium, imaum, immix, imply, jaffa, jaggy, jalap, jambu, jammy, jazzy, jhala, jibba, jiffy, jiggy, jihad, jimmy, jimpy, judgy, jugal, jugum, jumby, jumpy, kaama, kabab, kadai, kahal, kaiak, kaika, kalam, kalif, kalpa, kamik, kappa, kaugh, kaval, kayak, khadi, khaki, khaph, khaya, khazi, kibbi, kibla, kiddy, kilim, kippa, kudzu, kulak, kulfi, kylix, labda, labia, laddy, lahal, laigh, laika, laldy, lamby, lamia, lammy, laugh, laval, lavvy, laxly, layup, lazzi, limax, limba, limbi, limby, limma, limpa, lipid, lippy, livid, llama, luffa, lumbi, lummy, lumpy, luvvy, lymph, madam, madid, madly, mafia, magma, mahua, maill, malam, malax, malik, malmy, malva, mamba, mamma, mammy, mapau, maqui, mauby, mauzy, maxim, miaul, middy, midgy, miffy, mikva, milia, milky, milpa, mixup, mizzy, muddy, mugga, muggy, muhly, mujik, mulga, mulla, mummy, muzak, muzzy, myall, paddy, padma, pakka, palay, palki, palla, pally, palmy, palpi, pampa, papal, pappi, pappy, pavid, phial, phizz, phyla, pibal, piggy, pigmy, pikau, pikul, pilaf, pilau, pilum, pipal, pippy, pipul, pizza, plaid, playa, plaza, pluff, plumb, plump, plumy, puddy, pudgy, puffa, puffy, puggy, pugil, pujah, pukka, pulik, pulka, pulli, pully, pulpy, pupal, pupil, puppy, pygal, pygmy, pzazz, qajaq, qapik, qibla, quaff, quail, quaky, qualm, quayd, quiff, quill, quipu, ugali, ulama, umami, umiak, umiaq, ummah, uplay, uvula, vagal, vakil, valid, vampy, vapid, vifda, vigia, vigil, villa, villi, vivda, vivid, vuggy, vughy, vulva, xylyl, yabba, yabby, yakka, yampy, yappy, yauld, yippy, yukky, yummy, yuppy, zaida, zaidy, zamia, zappy, zilla, zimbi, zippy, zuppa, zuzim, and zygal\n",
      "THIRD MOVE: aumil\n"
     ]
    }
   ],
   "source": [
    "\n",
    "testwords_list = ['scene', 'tower']\n",
    "response_patterns_list = ['xxxxx', 'xxxxx']\n",
    "w.minimize_branches_to_solve_a_wordle(testwords_list, response_patterns_list)"
   ]
  },
  {
   "cell_type": "code",
   "execution_count": 7,
   "id": "b587dd64-bcf9-4fbb-b0bd-8c6d46e74c7f",
   "metadata": {},
   "outputs": [
    {
     "name": "stdout",
     "output_type": "stream",
     "text": [
      "list of possible solutions (77): abaka, abaya, addax, affix, ahigh, ajiva, ayaya, azygy, babka, baddy, baffy, baggy, baiza, bhaji, biddy, biffy, bifid, biggy, bigha, bivia, bivvy, bizzy, dabba, dadah, daddy, daffy, dagga, daggy, dhaba, diddy, divvy, dizzy, fabby, faddy, faffy, faggy, figgy, fizzy, gabba, gabby, gaddi, gadid, ghazi, giddy, hadji, hafiz, haika, hajji, hijab, jaffa, jaggy, jazzy, jibba, jiffy, jiggy, jihad, kabab, kadai, kaiak, kaika, kayak, khadi, khaki, khaya, khazi, kibbi, kiddy, qajaq, vifda, vigia, vivda, vivid, yabba, yabby, yakka, zaida, and zaidy\n",
      "FOURTH MOVE: bayed\n"
     ]
    }
   ],
   "source": [
    "\n",
    "testwords_list = ['scene', 'tower', 'slump']\n",
    "response_patterns_list = ['xxxxx', 'xxxxx', 'xxxxx']\n",
    "w.minimize_branches_to_solve_a_wordle(testwords_list, response_patterns_list)"
   ]
  },
  {
   "cell_type": "code",
   "execution_count": 8,
   "id": "713765cc-b035-4c30-8703-9f996b08d085",
   "metadata": {},
   "outputs": [
    {
     "name": "stdout",
     "output_type": "stream",
     "text": [
      "list of possible solutions (26): abaka, addax, affix, ajiva, babka, baiza, bifid, bivia, dabba, dagga, gabba, gaddi, gadid, jaffa, jibba, kabab, kadai, kaiak, kaika, kibbi, qajaq, vifda, vigia, vivda, vivid, and zaida\n",
      "FIFTH MOVE: biked\n"
     ]
    }
   ],
   "source": [
    "\n",
    "testwords_list = ['scene', 'tower', 'slump', 'thyme']\n",
    "response_patterns_list = ['xxxxx', 'xxxxx', 'xxxxx', 'xxxxx']\n",
    "w.minimize_branches_to_solve_a_wordle(testwords_list, response_patterns_list)"
   ]
  },
  {
   "cell_type": "code",
   "execution_count": 9,
   "id": "2856a29c-ffca-462c-a6c6-97fbb6fefb5d",
   "metadata": {},
   "outputs": [
    {
     "name": "stdout",
     "output_type": "stream",
     "text": [
      "list of possible solutions: (1): vivid\n",
      "SIXTH MOVE: vivid\n"
     ]
    }
   ],
   "source": [
    "\n",
    "testwords_list = ['scene', 'tower', 'slump', 'thyme', 'fable']\n",
    "response_patterns_list = ['xxxxx', 'xxxxx', 'xxxxx', 'xxxxx', 'xxxxx']\n",
    "w.minimize_branches_to_solve_a_wordle(testwords_list, response_patterns_list)"
   ]
  },
  {
   "cell_type": "markdown",
   "id": "175c8740-402f-408f-a87e-49bed619a97a",
   "metadata": {},
   "source": [
    "\n",
    "----\n",
    "# Maximize Green Responses to Solve a Wordle"
   ]
  },
  {
   "cell_type": "code",
   "execution_count": 141,
   "id": "1ff01416-897e-417b-aced-6c9a7234aace",
   "metadata": {},
   "outputs": [
    {
     "name": "stdout",
     "output_type": "stream",
     "text": [
      "list of possible solutions: (12,972)\n",
      "FIRST MOVE: arose\n"
     ]
    }
   ],
   "source": [
    "\n",
    "leaf_first_guess, max_score = get_best_word(words_list)\n",
    "print(f'list of possible solutions: ({len(words_list):,})')\n",
    "print(f'FIRST MOVE: {leaf_first_guess}')"
   ]
  },
  {
   "cell_type": "code",
   "execution_count": 63,
   "id": "c5a17dc9-be97-4806-a41f-a64ca308b7d3",
   "metadata": {},
   "outputs": [
    {
     "name": "stdout",
     "output_type": "stream",
     "text": [
      "list of possible solutions: (796): babka, baboo, babul, bacca, bacco, baccy, bacha, bacon, baddy, badly, baffy, baggy, bahut, bajan, baldy, balky, bally, balmy, baloo, balun, banak, banal, banco, banda, bandh, bandy, banjo, bantu, banty, banya, batch, baton, batta, battu, batty, baulk, bawdy, bawty, bayou, bazoo, bhang, bhuna, black, blady, blaff, bland, blank, blatt, blaud, blawn, bloat, bobac, bobak, bocca, bogan, bonza, booay, bowat, boxla, boyau, boyla, bubal, bubba, buffa, bulla, bunya, bwana, bylaw, byway, cabal, cabby, cabob, caboc, cacao, cacky, caddy, cadgy, cagot, cahow, cajon, cajun, calla, calmy, calpa, calyx, caman, campo, campy, canal, candy, canna, canny, canon, canto, canty, capon, capot, capul, caput, catch, catty, cauda, cauld, caulk, caxon, chack, chaco, chado, chaff, chaft, chalk, champ, chana, chang, chank, chant, chapt, chawk, chaya, chola, chota, chufa, clach, clack, clamp, clang, clank, clapt, claut, cloak, cloam, coach, coact, coady, coala, coaly, coapt, cobza, cocoa, cohab, colza, comal, comma, conga, copal, copay, cotan, cotta, couta, cowal, cowan, coxal, coyau, culpa, cuppa, cyano, cycad, dabba, dacha, dadah, daddy, daffy, dagga, daggy, dally, daman, dampy, dancy, dandy, danny, datal, datto, datum, dauby, dault, daunt, dawah, dayan, daych, daynt, dhaba, dobla, dogan, dogma, dolma, domal, donah, donga, donna, doona, dotal, doula, douma, downa, ducal, ducat, dukka, dumka, dunam, dwaal, dwalm, dwang, dwaum, fabby, facta, faddy, faffy, faggy, fagot, falaj, fanal, fancy, fanga, fango, fanny, fanon, fanum, fatal, fatly, fatty, fatwa, faugh, fauld, fault, fauna, fawny, flack, flaff, flaky, flamm, flamy, flank, flava, flawn, flawy, flaxy, float, flota, foamy, focal, fonda, fouat, fugal, gabba, gabby, gadjo, galah, galax, gally, galop, galut, galvo, gamay, gamba, gambo, gamma, gammy, gamut, ganch, gandy, ganja, ganof, gappy, gatch, gauch, gaucy, gaudy, gault, gaumy, gaunt, gauzy, gavot, gawcy, gawky, gayal, gayly, gazal, gazon, gazoo, ghaut, glady, gland, glaum, glazy, gloam, gloat, gnawn, goaty, goban, gogga, gompa, gonad, gonna, gopak, gotta, gowan, guaco, guana, guano, guava, gulag, gumma, gutta, gyoza, hadal, hakam, halal, halfa, hallo, halma, halon, halva, halwa, hamal, hamba, hammy, hamza, hanap, hanch, handy, hanky, haoma, hapax, haply, happy, hatch, hatha, haugh, hauld, haulm, hault, haunt, havoc, hazan, hoagy, hodad, hodja, hogan, holla, honan, honda, hooka, hopak, hudna, human, huzza, hypha, jabot, jacal, jacky, jaffa, jaggy, jalap, jalop, jambo, jambu, jammy, jamon, janny, janty, japan, jaunt, jawan, jazzy, jhala, jnana, joual, jugal, junta, kaama, kabab, kabob, kacha, kahal, kalam, kalpa, kandy, kanga, kanzu, kapok, kapow, kappa, kaput, katal, kaugh, kaval, kawau, kayak, kazoo, khaph, khaya, khoja, klang, knack, koala, koban, kofta, kogal, kokam, koppa, kulak, kulan, kyack, kyang, labda, laddy, lagan, lahal, laldy, lamby, lammy, lanch, lanky, latah, latch, lathy, lauan, lauch, laugh, laund, laval, lavvy, lawny, laxly, layup, lazzo, llama, llano, loach, loamy, loath, local, logan, lohan, longa, loofa, lotah, lotta, louma, lovat, lowan, loyal, luach, luffa, lytta, macaw, macho, macon, madam, madly, magma, magot, mahua, mahwa, malam, malax, malmy, malty, malva, malwa, mamba, mambo, mamma, mammy, manat, manga, mango, mangy, manky, manly, manna, manta, manto, manty, manul, mapau, match, matlo, matza, matzo, mauby, maund, mauzy, mawky, mayan, mazut, mocha, modal, mohua, molal, molla, momma, monad, monal, moola, motza, mugga, mulga, mulla, munga, mutha, muzak, myall, mynah, myoma, nabla, nabob, nacho, naggy, nahal, nakfa, nalla, namma, nancy, nandu, nanna, nanny, nanua, napoo, nappa, nappy, natal, natch, natty, nauch, naunt, naval, navvy, nawab, nduja, ngana, ngoma, nodal, nomad, nopal, notal, noway, noxal, noyau, nucha, nulla, nyaff, nyala, oakum, obang, occam, octad, octal, octan, offal, oflag, ogham, ollav, omlah, onlay, otaku, outta, pacha, pacta, paddy, padma, pagan, pagod, pakka, palay, palla, pally, palmy, pampa, panax, panda, pandy, panga, panko, panto, panty, paolo, papal, papaw, pappy, patch, patka, patly, patty, pavan, pawaw, pawky, phang, phoca, phyla, plack, plank, plant, platt, platy, playa, plaza, ploat, poach, poaka, podal, pokal, polka, ponga, pooja, pooka, poppa, powan, pucan, pucka, puffa, pujah, pukka, pulao, pulka, punga, punka, pupal, pygal, pzazz, qajaq, qanat, quack, quaff, quaky, qualm, quant, quayd, quoad, quota, taata, tabby, tabla, taboo, tabun, tacan, tacho, tacky, taffy, taggy, tagma, takky, talak, talaq, talcy, talky, tally, talma, talon, talpa, taluk, tamal, tammy, tanga, tango, tangy, tanka, tanky, tanna, tanto, tanty, tappa, tatou, tatty, tauld, taunt, tauon, tavah, tawny, taxol, taxon, tazza, thack, thana, thang, thank, thanx, thawy, thuja, thuya, toady, today, tokay, tolan, toman, tonal, tonga, tonka, topaz, total, tuath, tubal, tulpa, twang, twank, typal, uhlan, ulama, ulnad, ulpan, ummah, unapt, unbag, unban, uncap, undam, ungag, unhat, unjam, unlaw, unlay, unman, unpay, untax, uplay, uptak, uvula, vacua, vagal, vampy, vanda, vauch, vault, vaunt, vocab, vocal, vodka, volta, volva, vulva, wacko, wacky, waddy, wagga, wagon, wagyu, wahoo, waldo, walla, wally, walty, waltz, wanky, wanly, wanna, wanty, watap, watch, wauff, waugh, waulk, wazoo, whack, whamo, whang, whata, whaup, whyda, woald, wokka, woman, wonga, xoana, xylan, yabba, yabby, yacca, yacht, yacka, yahoo, yakka, yakow, yampy, yamun, yapok, yapon, yappy, yauld, yawny, yclad, yojan, yowza, yucca, yulan, zakat, zaman, zambo, zanja, zanza, zappy, zonal, zonda, zoppa, zupan, zuppa, and zygal\n",
      "SECOND MOVE: tolan\n"
     ]
    }
   ],
   "source": [
    "\n",
    "leaf_first_guess = 'arise'\n",
    "leaf_first_response_pattern = 'Yxxxx'\n",
    "test_words_list = [leaf_first_guess]\n",
    "response_patterns_list = [leaf_first_response_pattern]\n",
    "yellows_list = get_yellows_list(test_words_list, response_patterns_list)\n",
    "greys_list = get_greys_list(test_words_list, response_patterns_list)\n",
    "leaf_first_candidates_list = []\n",
    "for word_str in words_list:\n",
    "    if all(map(lambda x: x in word_str, yellows_list)):\n",
    "        if all(map(lambda x: x not in word_str, greys_list)):\n",
    "            if is_greened(word_str, test_words_list, response_patterns_list):\n",
    "                leaf_first_candidates_list.append(word_str)\n",
    "print(f'list of possible solutions: ({len(leaf_first_candidates_list)}): {conjunctify_nouns(sorted(leaf_first_candidates_list))}')\n",
    "leaf_second_guess, max_score = get_best_word(leaf_first_candidates_list)\n",
    "print(f'SECOND MOVE: {leaf_second_guess}')"
   ]
  },
  {
   "cell_type": "code",
   "execution_count": 64,
   "id": "6198f8e9-ec46-46d7-8777-f91b3f352bf4",
   "metadata": {},
   "outputs": [
    {
     "name": "stdout",
     "output_type": "stream",
     "text": [
      "list of possible solutions: (310): babka, baboo, bacca, bacco, baccy, bacha, bacon, baddy, baffy, baggy, bajan, banak, banco, banda, bandh, bandy, banjo, banya, bawdy, bayou, bazoo, bhang, bhuna, bobac, bobak, bocca, bogan, bonza, booay, boyau, bubba, buffa, bunya, bwana, byway, cabby, cabob, caboc, cacao, cacky, caddy, cadgy, cahow, cajon, cajun, caman, candy, canna, canny, canon, cauda, caxon, chack, chaco, chado, chaff, chana, chang, chank, chawk, chaya, chufa, coach, coady, cobza, cocoa, cohab, comma, conga, cowan, coyau, cyano, cycad, dabba, dacha, dadah, daddy, daffy, dagga, daggy, daman, dancy, dandy, danny, dauby, dawah, dayan, daych, dhaba, dogan, dogma, donah, donga, donna, doona, douma, downa, dukka, dumka, dunam, dwang, dwaum, fabby, faddy, faffy, faggy, fancy, fanga, fango, fanny, fanon, fanum, faugh, fauna, fawny, foamy, fonda, gabba, gabby, gadjo, gamay, gamba, gambo, gamma, gammy, ganch, gandy, ganja, ganof, gauch, gaucy, gaudy, gaumy, gauzy, gawcy, gawky, gazon, gazoo, gnawn, goban, gogga, gonad, gonna, gowan, guaco, guana, guano, guava, gumma, gyoza, hakam, hamba, hammy, hamza, hanch, handy, hanky, haoma, haugh, havoc, hazan, hoagy, hodad, hodja, hogan, honan, honda, hooka, hudna, human, huzza, jacky, jaffa, jaggy, jambo, jambu, jammy, jamon, janny, jawan, jazzy, jnana, kaama, kabab, kabob, kacha, kandy, kanga, kanzu, kaugh, kawau, kayak, kazoo, khaya, khoja, knack, koban, kokam, kyack, kyang, macaw, macho, macon, madam, magma, mahua, mahwa, mamba, mambo, mamma, mammy, manga, mango, mangy, manky, manna, mauby, maund, mauzy, mawky, mayan, mocha, mohua, momma, monad, mugga, munga, muzak, mynah, myoma, nabob, nacho, naggy, nakfa, namma, nancy, nandu, nanna, nanny, nanua, nauch, navvy, nawab, nduja, ngana, ngoma, nomad, noway, noyau, nucha, nyaff, oakum, obang, occam, ogham, qajaq, quack, quaff, quaky, quayd, quoad, ummah, unbag, unban, undam, ungag, unjam, unman, vacua, vanda, vauch, vocab, vodka, wacko, wacky, waddy, wagga, wagon, wagyu, wahoo, wanky, wanna, wauff, waugh, wazoo, whack, whamo, whang, whyda, wokka, woman, wonga, xoana, yabba, yabby, yacca, yacka, yahoo, yakka, yakow, yamun, yawny, yojan, yowza, yucca, zaman, zambo, zanja, zanza, and zonda\n",
      "THIRD MOVE: cyano\n"
     ]
    }
   ],
   "source": [
    "\n",
    "leaf_second_guess = 'slipt'\n",
    "leaf_second_response_pattern = 'xxxxx'\n",
    "test_words_list = [leaf_first_guess, leaf_second_guess]\n",
    "response_patterns_list = [leaf_first_response_pattern, leaf_second_response_pattern]\n",
    "yellows_list = get_yellows_list(test_words_list, response_patterns_list)\n",
    "greys_list = get_greys_list(test_words_list, response_patterns_list)\n",
    "leaf_second_candidates_list = []\n",
    "for word_str in words_list:\n",
    "    if all(map(lambda x: x in word_str, yellows_list)):\n",
    "        if all(map(lambda x: x not in word_str, greys_list)):\n",
    "            if is_greened(word_str, test_words_list, response_patterns_list):\n",
    "                leaf_second_candidates_list.append(word_str)\n",
    "print(f'list of possible solutions: ({len(leaf_second_candidates_list)}): {conjunctify_nouns(sorted(leaf_second_candidates_list))}')\n",
    "leaf_third_guess, max_score = get_best_word(leaf_second_candidates_list)\n",
    "print(f'THIRD MOVE: {leaf_third_guess}')"
   ]
  },
  {
   "cell_type": "code",
   "execution_count": 65,
   "id": "19ac7319-fcd3-4916-b2ef-ec89102ba2a1",
   "metadata": {},
   "outputs": [
    {
     "name": "stdout",
     "output_type": "stream",
     "text": [
      "list of possible solutions: (59): caman, comma, daman, dogma, douma, dumka, dunam, dwaum, fanum, foamy, gamay, gamba, gambo, gamma, gammy, gaumy, gumma, jambo, jambu, jammy, jamon, kaama, kokam, macaw, macon, madam, magma, mamba, mambo, mamma, mammy, manga, mango, mangy, manky, manna, mauby, maund, mauzy, mawky, mayan, momma, monad, mugga, munga, muzak, myoma, namma, ngoma, nomad, oakum, occam, undam, unjam, unman, woman, yamun, zaman, and zambo\n",
      "FOURTH MOVE: mango\n"
     ]
    }
   ],
   "source": [
    "\n",
    "leaf_third_guess = 'smith'\n",
    "leaf_third_response_pattern = 'xYxxx'\n",
    "test_words_list = [leaf_first_guess, leaf_second_guess, leaf_third_guess]\n",
    "response_patterns_list = [leaf_first_response_pattern, leaf_second_response_pattern, leaf_third_response_pattern]\n",
    "yellows_list = get_yellows_list(test_words_list, response_patterns_list)\n",
    "greys_list = get_greys_list(test_words_list, response_patterns_list)\n",
    "leaf_third_candidates_list = []\n",
    "for word_str in words_list:\n",
    "    if all(map(lambda x: x in word_str, yellows_list)):\n",
    "        if all(map(lambda x: x not in word_str, greys_list)):\n",
    "            if is_greened(word_str, test_words_list, response_patterns_list):\n",
    "                leaf_third_candidates_list.append(word_str)\n",
    "print(f'list of possible solutions: ({len(leaf_third_candidates_list)}): {conjunctify_nouns(sorted(leaf_third_candidates_list))}')\n",
    "leaf_fourth_guess, max_score = get_best_word(leaf_third_candidates_list)\n",
    "print(f'FOURTH MOVE: {leaf_fourth_guess}')"
   ]
  },
  {
   "cell_type": "code",
   "execution_count": 67,
   "id": "6b71a8e7-6251-4bfa-9f9b-f7f38a852097",
   "metadata": {},
   "outputs": [
    {
     "name": "stdout",
     "output_type": "stream",
     "text": [
      "list of possible solutions: (29): comma, dogma, douma, dwaum, foamy, gamay, gamba, gambo, gamma, gammy, gaumy, gumma, jambo, jambu, jammy, macaw, madam, magma, mamba, mambo, mamma, mammy, mauby, mauzy, momma, mugga, myoma, occam, and zambo\n",
      "FIFTH MOVE: gambo\n"
     ]
    }
   ],
   "source": [
    "\n",
    "leaf_fourth_guess = 'stink'\n",
    "leaf_fourth_response_pattern = 'xxxxx'\n",
    "test_words_list = [leaf_first_guess, leaf_second_guess, leaf_third_guess, leaf_fourth_guess]\n",
    "response_patterns_list = [leaf_first_response_pattern, leaf_second_response_pattern, leaf_third_response_pattern, leaf_fourth_response_pattern]\n",
    "yellows_list = get_yellows_list(test_words_list, response_patterns_list)\n",
    "greys_list = get_greys_list(test_words_list, response_patterns_list)\n",
    "leaf_fourth_candidates_list = []\n",
    "for word_str in words_list:\n",
    "    if all(map(lambda x: x in word_str, yellows_list)):\n",
    "        if all(map(lambda x: x not in word_str, greys_list)):\n",
    "            if is_greened(word_str, test_words_list, response_patterns_list):\n",
    "                leaf_fourth_candidates_list.append(word_str)\n",
    "print(f'list of possible solutions: ({len(leaf_fourth_candidates_list)}): {conjunctify_nouns(sorted(leaf_fourth_candidates_list))}')\n",
    "leaf_fifth_guess, max_score = get_best_word(leaf_fourth_candidates_list)\n",
    "print(f'FIFTH MOVE: {leaf_fifth_guess}')"
   ]
  },
  {
   "cell_type": "code",
   "execution_count": 68,
   "id": "2cefa007-ac62-45bf-a659-7c2de9f3d1ac",
   "metadata": {},
   "outputs": [
    {
     "name": "stdout",
     "output_type": "stream",
     "text": [
      "list of possible solutions: (5): comma, dogma, momma, myoma, and occam\n",
      "SIXTH MOVE: comma\n"
     ]
    }
   ],
   "source": [
    "\n",
    "leaf_fifth_guess = 'sulfo'\n",
    "leaf_fifth_response_pattern = 'xxxxY'\n",
    "test_words_list = [leaf_first_guess, leaf_second_guess, leaf_third_guess, leaf_fourth_guess, leaf_fifth_guess]\n",
    "response_patterns_list = [leaf_first_response_pattern, leaf_second_response_pattern, leaf_third_response_pattern, leaf_fourth_response_pattern,\n",
    "                          leaf_fifth_response_pattern]\n",
    "yellows_list = get_yellows_list(test_words_list, response_patterns_list)\n",
    "greys_list = get_greys_list(test_words_list, response_patterns_list)\n",
    "leaf_fifth_candidates_list = []\n",
    "for word_str in words_list:\n",
    "    if all(map(lambda x: x in word_str, yellows_list)):\n",
    "        if all(map(lambda x: x not in word_str, greys_list)):\n",
    "            if is_greened(word_str, test_words_list, response_patterns_list):\n",
    "                leaf_fifth_candidates_list.append(word_str)\n",
    "print(f'list of possible solutions: ({len(leaf_fifth_candidates_list)}): {conjunctify_nouns(sorted(leaf_fifth_candidates_list))}')\n",
    "leaf_sixth_guess, max_score = get_best_word(leaf_fifth_candidates_list)\n",
    "print(f'SIXTH MOVE: {leaf_sixth_guess}')"
   ]
  },
  {
   "cell_type": "code",
   "execution_count": 69,
   "id": "8745e77b-818c-4b1d-87bc-c7bab78d57dd",
   "metadata": {},
   "outputs": [
    {
     "name": "stdout",
     "output_type": "stream",
     "text": [
      "list of possible solutions: (2): dogma and momma\n",
      "SEVENTH MOVE: dogma\n"
     ]
    }
   ],
   "source": [
    "\n",
    "leaf_sixth_guess = 'scowl'\n",
    "leaf_sixth_response_pattern = 'xxYxx'\n",
    "test_words_list = [leaf_first_guess, leaf_second_guess, leaf_third_guess, leaf_fourth_guess, leaf_fifth_guess, leaf_sixth_guess]\n",
    "response_patterns_list = [leaf_first_response_pattern, leaf_second_response_pattern, leaf_third_response_pattern, leaf_fourth_response_pattern,\n",
    "                          leaf_fifth_response_pattern, leaf_sixth_response_pattern]\n",
    "yellows_list = get_yellows_list(test_words_list, response_patterns_list)\n",
    "greys_list = get_greys_list(test_words_list, response_patterns_list)\n",
    "leaf_sixth_candidates_list = []\n",
    "for word_str in words_list:\n",
    "    if all(map(lambda x: x in word_str, yellows_list)):\n",
    "        if all(map(lambda x: x not in word_str, greys_list)):\n",
    "            if is_greened(word_str, test_words_list, response_patterns_list):\n",
    "                leaf_sixth_candidates_list.append(word_str)\n",
    "print(f'list of possible solutions: ({len(leaf_sixth_candidates_list)}): {conjunctify_nouns(sorted(leaf_sixth_candidates_list))}')\n",
    "leaf_seventh_guess, max_score = get_best_word(leaf_sixth_candidates_list)\n",
    "print(f'SEVENTH MOVE: {leaf_seventh_guess}')"
   ]
  },
  {
   "cell_type": "code",
   "execution_count": 70,
   "id": "03035e14-e995-480c-860a-6f01091be695",
   "metadata": {},
   "outputs": [
    {
     "name": "stdout",
     "output_type": "stream",
     "text": [
      "list of possible solutions: (1): dogma\n",
      "EIGHTH MOVE: dogma\n"
     ]
    }
   ],
   "source": [
    "\n",
    "leaf_seventh_guess = 'scold'\n",
    "leaf_seventh_response_pattern = 'xxYxY'\n",
    "test_words_list = [leaf_first_guess, leaf_second_guess, leaf_third_guess, leaf_fourth_guess, leaf_fifth_guess, leaf_sixth_guess, leaf_seventh_guess]\n",
    "response_patterns_list = [leaf_first_response_pattern, leaf_second_response_pattern, leaf_third_response_pattern, leaf_fourth_response_pattern,\n",
    "                          leaf_fifth_response_pattern, leaf_sixth_response_pattern, leaf_seventh_response_pattern]\n",
    "yellows_list = get_yellows_list(test_words_list, response_patterns_list)\n",
    "greys_list = get_greys_list(test_words_list, response_patterns_list)\n",
    "leaf_seventh_candidates_list = []\n",
    "for word_str in words_list:\n",
    "    if all(map(lambda x: x in word_str, yellows_list)):\n",
    "        if all(map(lambda x: x not in word_str, greys_list)):\n",
    "            if is_greened(word_str, test_words_list, response_patterns_list):\n",
    "                leaf_seventh_candidates_list.append(word_str)\n",
    "print(f'list of possible solutions: ({len(leaf_seventh_candidates_list)}): {conjunctify_nouns(sorted(leaf_seventh_candidates_list))}')\n",
    "leaf_eighth_guess, max_score = get_best_word(leaf_seventh_candidates_list)\n",
    "print(f'EIGHTH MOVE: {leaf_eighth_guess}')"
   ]
  },
  {
   "cell_type": "code",
   "execution_count": 71,
   "id": "91ce1ebe-4e9d-4134-a9ba-dd6d1b59f582",
   "metadata": {},
   "outputs": [
    {
     "name": "stdout",
     "output_type": "stream",
     "text": [
      "list of possible solutions: (1): dogma\n",
      "NINTH MOVE: dogma\n"
     ]
    }
   ],
   "source": [
    "\n",
    "leaf_eighth_guess = 'quoth'\n",
    "leaf_eighth_response_pattern = 'xxYxx'\n",
    "test_words_list = [leaf_first_guess, leaf_second_guess, leaf_third_guess, leaf_fourth_guess, leaf_fifth_guess, leaf_sixth_guess, leaf_seventh_guess, leaf_eighth_guess]\n",
    "response_patterns_list = [leaf_first_response_pattern, leaf_second_response_pattern, leaf_third_response_pattern, leaf_fourth_response_pattern,\n",
    "                          leaf_fifth_response_pattern, leaf_sixth_response_pattern, leaf_seventh_response_pattern, leaf_eighth_response_pattern]\n",
    "yellows_list = get_yellows_list(test_words_list, response_patterns_list)\n",
    "greys_list = get_greys_list(test_words_list, response_patterns_list)\n",
    "leaf_eighth_candidates_list = []\n",
    "for word_str in words_list:\n",
    "    if all(map(lambda x: x in word_str, yellows_list)):\n",
    "        if all(map(lambda x: x not in word_str, greys_list)):\n",
    "            if is_greened(word_str, test_words_list, response_patterns_list):\n",
    "                leaf_eighth_candidates_list.append(word_str)\n",
    "print(f'list of possible solutions: ({len(leaf_eighth_candidates_list)}): {conjunctify_nouns(sorted(leaf_eighth_candidates_list))}')\n",
    "leaf_ninth_guess, max_score = get_best_word(leaf_eighth_candidates_list)\n",
    "print(f'NINTH MOVE: {leaf_ninth_guess}')"
   ]
  },
  {
   "cell_type": "markdown",
   "id": "bf8fd7d3-7d89-42c6-a7ec-4797fcfca6d5",
   "metadata": {},
   "source": [
    "\n",
    "----\n",
    "## Display the Difference"
   ]
  },
  {
   "cell_type": "code",
   "execution_count": 197,
   "id": "a716ee7d-8c1f-4c80-8402-650bf8f508a9",
   "metadata": {},
   "outputs": [],
   "source": [
    "\n",
    "def patternize_guess(word_str, pattern_str):\n",
    "    pre_str = '<span style=\"font-family:Courier;font-size:3em;text-transform:uppercase;font-variant-numeric:tabular-nums lining-nums;background-color:'\n",
    "    in_str = ';\">'\n",
    "    post_str = '</span>'\n",
    "    patternized_str = ''\n",
    "    for letter_str, letter_pattern in zip(word_str, pattern_str):\n",
    "        patternized_str += pre_str\n",
    "        if letter_pattern == 'G':\n",
    "            patternized_str += 'green'\n",
    "        elif letter_pattern == 'Y':\n",
    "            patternized_str += 'yellow'\n",
    "        else:\n",
    "            patternized_str += 'grey'\n",
    "        patternized_str += in_str + letter_str + post_str\n",
    "    \n",
    "    return patternized_str"
   ]
  },
  {
   "cell_type": "code",
   "execution_count": 198,
   "id": "85f85298-3ce0-44f3-afe0-e0327a2753c0",
   "metadata": {},
   "outputs": [],
   "source": [
    "\n",
    "from num2words import num2words\n",
    "\n",
    "def get_tr(ordinal, leaf_count=None, tree_count=None):\n",
    "    ordinal_str = num2words(ordinal, lang='en', to='ordinal')\n",
    "    previous_ordinal_str = num2words(ordinal-1, lang='en', to='ordinal')\n",
    "    if leaf_count is None:\n",
    "        leaf_count = eval(f'len(leaf_{previous_ordinal_str}_candidates_list)')\n",
    "    leaf_guess = eval(f'leaf_{ordinal_str}_guess')\n",
    "    leaf_pattern = eval(f'leaf_{ordinal_str}_response_pattern')\n",
    "    if tree_count is None:\n",
    "        tree_count = eval(f'len(tree_{previous_ordinal_str}_candidates_list)')\n",
    "    tree_guess = eval(f'tree_{ordinal_str}_guess')\n",
    "    tree_pattern = eval(f'tree_{ordinal_str}_response_pattern')\n",
    "    html_str = f'''<tr>\n",
    "        <td>{ordinal_str.title()}</td>\n",
    "        <td>{leaf_count:,}</td>\n",
    "        <td>{patternize_guess(leaf_guess, leaf_pattern)}</td>\n",
    "        <td>{tree_count:,}</td>\n",
    "        <td>{patternize_guess(tree_guess, tree_pattern)}</td>\n",
    "    </tr>'''\n",
    "    \n",
    "    return html_str"
   ]
  },
  {
   "cell_type": "code",
   "execution_count": 199,
   "id": "89bf24c8-c4e8-456c-bc0e-91c7c4ebefef",
   "metadata": {},
   "outputs": [
    {
     "data": {
      "text/html": [
       "<table>\n",
       "    <tr>\n",
       "        <th rowspan=\"2\">Move</th>\n",
       "        <th colspan=\"2\" style=\"text-align:center\">Green Maximizer</th>\n",
       "        <th colspan=\"2\" style=\"text-align:center\">Branch Minimizer</th>\n",
       "    </tr>\n",
       "    <tr>\n",
       "        <th style=\"text-align:center\">Solutions</th>\n",
       "        <th style=\"text-align:center\">Guess</th>\n",
       "        <th style=\"text-align:center\">Solutions</th>\n",
       "        <th style=\"text-align:center\">Guess</th>\n",
       "    </tr>\n",
       "    <tr>\n",
       "        <td>First</td>\n",
       "        <td>12,972</td>\n",
       "        <td><span style=\"font-family:Courier;font-size:3em;text-transform:uppercase;font-variant-numeric:tabular-nums lining-nums;background-color:yellow;\">a</span><span style=\"font-family:Courier;font-size:3em;text-transform:uppercase;font-variant-numeric:tabular-nums lining-nums;background-color:grey;\">r</span><span style=\"font-family:Courier;font-size:3em;text-transform:uppercase;font-variant-numeric:tabular-nums lining-nums;background-color:grey;\">o</span><span style=\"font-family:Courier;font-size:3em;text-transform:uppercase;font-variant-numeric:tabular-nums lining-nums;background-color:grey;\">s</span><span style=\"font-family:Courier;font-size:3em;text-transform:uppercase;font-variant-numeric:tabular-nums lining-nums;background-color:grey;\">e</span></td>\n",
       "        <td>12,972</td>\n",
       "        <td><span style=\"font-family:Courier;font-size:3em;text-transform:uppercase;font-variant-numeric:tabular-nums lining-nums;background-color:grey;\">r</span><span style=\"font-family:Courier;font-size:3em;text-transform:uppercase;font-variant-numeric:tabular-nums lining-nums;background-color:grey;\">e</span><span style=\"font-family:Courier;font-size:3em;text-transform:uppercase;font-variant-numeric:tabular-nums lining-nums;background-color:green;\">a</span><span style=\"font-family:Courier;font-size:3em;text-transform:uppercase;font-variant-numeric:tabular-nums lining-nums;background-color:grey;\">l</span><span style=\"font-family:Courier;font-size:3em;text-transform:uppercase;font-variant-numeric:tabular-nums lining-nums;background-color:grey;\">s</span></td>\n",
       "    </tr>\n",
       "    <tr>\n",
       "        <td>Second</td>\n",
       "        <td>801</td>\n",
       "        <td><span style=\"font-family:Courier;font-size:3em;text-transform:uppercase;font-variant-numeric:tabular-nums lining-nums;background-color:grey;\">l</span><span style=\"font-family:Courier;font-size:3em;text-transform:uppercase;font-variant-numeric:tabular-nums lining-nums;background-color:yellow;\">a</span><span style=\"font-family:Courier;font-size:3em;text-transform:uppercase;font-variant-numeric:tabular-nums lining-nums;background-color:grey;\">y</span><span style=\"font-family:Courier;font-size:3em;text-transform:uppercase;font-variant-numeric:tabular-nums lining-nums;background-color:grey;\">i</span><span style=\"font-family:Courier;font-size:3em;text-transform:uppercase;font-variant-numeric:tabular-nums lining-nums;background-color:grey;\">n</span></td>\n",
       "        <td>126</td>\n",
       "        <td><span style=\"font-family:Courier;font-size:3em;text-transform:uppercase;font-variant-numeric:tabular-nums lining-nums;background-color:grey;\">n</span><span style=\"font-family:Courier;font-size:3em;text-transform:uppercase;font-variant-numeric:tabular-nums lining-nums;background-color:grey;\">i</span><span style=\"font-family:Courier;font-size:3em;text-transform:uppercase;font-variant-numeric:tabular-nums lining-nums;background-color:yellow;\">c</span><span style=\"font-family:Courier;font-size:3em;text-transform:uppercase;font-variant-numeric:tabular-nums lining-nums;background-color:yellow;\">h</span><span style=\"font-family:Courier;font-size:3em;text-transform:uppercase;font-variant-numeric:tabular-nums lining-nums;background-color:grey;\">t</span></td>\n",
       "    </tr>\n",
       "    <tr>\n",
       "        <td>Third</td>\n",
       "        <td>40</td>\n",
       "        <td><span style=\"font-family:Courier;font-size:3em;text-transform:uppercase;font-variant-numeric:tabular-nums lining-nums;background-color:yellow;\">c</span><span style=\"font-family:Courier;font-size:3em;text-transform:uppercase;font-variant-numeric:tabular-nums lining-nums;background-color:green;\">h</span><span style=\"font-family:Courier;font-size:3em;text-transform:uppercase;font-variant-numeric:tabular-nums lining-nums;background-color:grey;\">u</span><span style=\"font-family:Courier;font-size:3em;text-transform:uppercase;font-variant-numeric:tabular-nums lining-nums;background-color:grey;\">f</span><span style=\"font-family:Courier;font-size:3em;text-transform:uppercase;font-variant-numeric:tabular-nums lining-nums;background-color:yellow;\">a</span></td>\n",
       "        <td>10</td>\n",
       "        <td><span style=\"font-family:Courier;font-size:3em;text-transform:uppercase;font-variant-numeric:tabular-nums lining-nums;background-color:yellow;\">c</span><span style=\"font-family:Courier;font-size:3em;text-transform:uppercase;font-variant-numeric:tabular-nums lining-nums;background-color:grey;\">o</span><span style=\"font-family:Courier;font-size:3em;text-transform:uppercase;font-variant-numeric:tabular-nums lining-nums;background-color:grey;\">n</span><span style=\"font-family:Courier;font-size:3em;text-transform:uppercase;font-variant-numeric:tabular-nums lining-nums;background-color:yellow;\">k</span><span style=\"font-family:Courier;font-size:3em;text-transform:uppercase;font-variant-numeric:tabular-nums lining-nums;background-color:grey;\">y</span></td>\n",
       "    </tr>\n",
       "    <tr>\n",
       "        <td>Fourth</td>\n",
       "        <td>2</td>\n",
       "        <td><span style=\"font-family:Courier;font-size:3em;text-transform:uppercase;font-variant-numeric:tabular-nums lining-nums;background-color:green;\">w</span><span style=\"font-family:Courier;font-size:3em;text-transform:uppercase;font-variant-numeric:tabular-nums lining-nums;background-color:green;\">h</span><span style=\"font-family:Courier;font-size:3em;text-transform:uppercase;font-variant-numeric:tabular-nums lining-nums;background-color:green;\">a</span><span style=\"font-family:Courier;font-size:3em;text-transform:uppercase;font-variant-numeric:tabular-nums lining-nums;background-color:green;\">c</span><span style=\"font-family:Courier;font-size:3em;text-transform:uppercase;font-variant-numeric:tabular-nums lining-nums;background-color:green;\">k</span></td>\n",
       "        <td>1</td>\n",
       "        <td><span style=\"font-family:Courier;font-size:3em;text-transform:uppercase;font-variant-numeric:tabular-nums lining-nums;background-color:green;\">w</span><span style=\"font-family:Courier;font-size:3em;text-transform:uppercase;font-variant-numeric:tabular-nums lining-nums;background-color:green;\">h</span><span style=\"font-family:Courier;font-size:3em;text-transform:uppercase;font-variant-numeric:tabular-nums lining-nums;background-color:green;\">a</span><span style=\"font-family:Courier;font-size:3em;text-transform:uppercase;font-variant-numeric:tabular-nums lining-nums;background-color:green;\">c</span><span style=\"font-family:Courier;font-size:3em;text-transform:uppercase;font-variant-numeric:tabular-nums lining-nums;background-color:green;\">k</span></td>\n",
       "    </tr>\n",
       "    <tr>\n",
       "        <td>Fifth</td>\n",
       "        <td>1</td>\n",
       "        <td><span style=\"font-family:Courier;font-size:3em;text-transform:uppercase;font-variant-numeric:tabular-nums lining-nums;background-color:green;\">w</span><span style=\"font-family:Courier;font-size:3em;text-transform:uppercase;font-variant-numeric:tabular-nums lining-nums;background-color:green;\">h</span><span style=\"font-family:Courier;font-size:3em;text-transform:uppercase;font-variant-numeric:tabular-nums lining-nums;background-color:green;\">a</span><span style=\"font-family:Courier;font-size:3em;text-transform:uppercase;font-variant-numeric:tabular-nums lining-nums;background-color:green;\">c</span><span style=\"font-family:Courier;font-size:3em;text-transform:uppercase;font-variant-numeric:tabular-nums lining-nums;background-color:green;\">k</span></td>\n",
       "        <td>1</td>\n",
       "        <td><span style=\"font-family:Courier;font-size:3em;text-transform:uppercase;font-variant-numeric:tabular-nums lining-nums;background-color:green;\">w</span><span style=\"font-family:Courier;font-size:3em;text-transform:uppercase;font-variant-numeric:tabular-nums lining-nums;background-color:green;\">h</span><span style=\"font-family:Courier;font-size:3em;text-transform:uppercase;font-variant-numeric:tabular-nums lining-nums;background-color:green;\">a</span><span style=\"font-family:Courier;font-size:3em;text-transform:uppercase;font-variant-numeric:tabular-nums lining-nums;background-color:green;\">c</span><span style=\"font-family:Courier;font-size:3em;text-transform:uppercase;font-variant-numeric:tabular-nums lining-nums;background-color:green;\">k</span></td>\n",
       "    </tr>\n",
       "    <tr>\n",
       "        <td>Sixth</td>\n",
       "        <td>1</td>\n",
       "        <td><span style=\"font-family:Courier;font-size:3em;text-transform:uppercase;font-variant-numeric:tabular-nums lining-nums;background-color:green;\">w</span><span style=\"font-family:Courier;font-size:3em;text-transform:uppercase;font-variant-numeric:tabular-nums lining-nums;background-color:green;\">h</span><span style=\"font-family:Courier;font-size:3em;text-transform:uppercase;font-variant-numeric:tabular-nums lining-nums;background-color:green;\">a</span><span style=\"font-family:Courier;font-size:3em;text-transform:uppercase;font-variant-numeric:tabular-nums lining-nums;background-color:green;\">c</span><span style=\"font-family:Courier;font-size:3em;text-transform:uppercase;font-variant-numeric:tabular-nums lining-nums;background-color:green;\">k</span></td>\n",
       "        <td>1</td>\n",
       "        <td><span style=\"font-family:Courier;font-size:3em;text-transform:uppercase;font-variant-numeric:tabular-nums lining-nums;background-color:green;\">w</span><span style=\"font-family:Courier;font-size:3em;text-transform:uppercase;font-variant-numeric:tabular-nums lining-nums;background-color:green;\">h</span><span style=\"font-family:Courier;font-size:3em;text-transform:uppercase;font-variant-numeric:tabular-nums lining-nums;background-color:green;\">a</span><span style=\"font-family:Courier;font-size:3em;text-transform:uppercase;font-variant-numeric:tabular-nums lining-nums;background-color:green;\">c</span><span style=\"font-family:Courier;font-size:3em;text-transform:uppercase;font-variant-numeric:tabular-nums lining-nums;background-color:green;\">k</span></td>\n",
       "    </tr>\n",
       "</table>"
      ],
      "text/plain": [
       "<IPython.core.display.HTML object>"
      ]
     },
     "execution_count": 199,
     "metadata": {},
     "output_type": "execute_result"
    }
   ],
   "source": [
    "\n",
    "from IPython.display import HTML, display\n",
    "\n",
    "HTML(f'''<table>\n",
    "    <tr>\n",
    "        <th rowspan=\"2\">Move</th>\n",
    "        <th colspan=\"2\" style=\"text-align:center\">Green Maximizer</th>\n",
    "        <th colspan=\"2\" style=\"text-align:center\">Branch Minimizer</th>\n",
    "    </tr>\n",
    "    <tr>\n",
    "        <th style=\"text-align:center\">Solutions</th>\n",
    "        <th style=\"text-align:center\">Guess</th>\n",
    "        <th style=\"text-align:center\">Solutions</th>\n",
    "        <th style=\"text-align:center\">Guess</th>\n",
    "    </tr>\n",
    "    {get_tr(1, leaf_count=len(words_list), tree_count=len(words_list))}\n",
    "    {get_tr(2)}\n",
    "    {get_tr(3)}\n",
    "    {get_tr(4)}\n",
    "    {get_tr(5)}\n",
    "    {get_tr(6)}\n",
    "</table>''')"
   ]
  },
  {
   "cell_type": "markdown",
   "id": "15656dd0-971c-4645-91f1-235c41c07088",
   "metadata": {},
   "source": [
    "\n",
    "----\n",
    "# Explore the Data"
   ]
  },
  {
   "cell_type": "code",
   "execution_count": 94,
   "id": "3624b53e-e885-4560-9e41-c0950d78be72",
   "metadata": {},
   "outputs": [],
   "source": [
    "\n",
    "response_patterns_set = set(['xGxxx', 'xGxYx', 'xYYYY'])\n",
    "# mask_series = False\n",
    "# for test_word, response_pattern in zip(test_words_list, response_patterns_list):\n",
    "#     mask_series = mask_series | ((response_patterns_df.test_word == test_word) & (response_patterns_df.response_pattern == response_pattern))\n",
    "mask_series = response_patterns_df.response_pattern.isin(response_patterns_set)\n",
    "counts_df = response_patterns_df[mask_series].groupby('target_word').count()"
   ]
  },
  {
   "cell_type": "code",
   "execution_count": 95,
   "id": "ec467754-bbb7-45c3-8d06-681538b3cbb9",
   "metadata": {},
   "outputs": [
    {
     "data": {
      "text/html": [
       "<div>\n",
       "<style scoped>\n",
       "    .dataframe tbody tr th:only-of-type {\n",
       "        vertical-align: middle;\n",
       "    }\n",
       "\n",
       "    .dataframe tbody tr th {\n",
       "        vertical-align: top;\n",
       "    }\n",
       "\n",
       "    .dataframe thead th {\n",
       "        text-align: right;\n",
       "    }\n",
       "</style>\n",
       "<table border=\"1\" class=\"dataframe\">\n",
       "  <thead>\n",
       "    <tr style=\"text-align: right;\">\n",
       "      <th></th>\n",
       "      <th>test_word</th>\n",
       "      <th>response_pattern</th>\n",
       "    </tr>\n",
       "    <tr>\n",
       "      <th>target_word</th>\n",
       "      <th></th>\n",
       "      <th></th>\n",
       "    </tr>\n",
       "  </thead>\n",
       "  <tbody>\n",
       "    <tr>\n",
       "      <th>jaffa</th>\n",
       "      <td>1862</td>\n",
       "      <td>1862</td>\n",
       "    </tr>\n",
       "    <tr>\n",
       "      <th>qajaq</th>\n",
       "      <td>1816</td>\n",
       "      <td>1816</td>\n",
       "    </tr>\n",
       "    <tr>\n",
       "      <th>mamma</th>\n",
       "      <td>1751</td>\n",
       "      <td>1751</td>\n",
       "    </tr>\n",
       "    <tr>\n",
       "      <th>baboo</th>\n",
       "      <td>1676</td>\n",
       "      <td>1676</td>\n",
       "    </tr>\n",
       "    <tr>\n",
       "      <th>kazoo</th>\n",
       "      <td>1667</td>\n",
       "      <td>1667</td>\n",
       "    </tr>\n",
       "  </tbody>\n",
       "</table>\n",
       "</div>"
      ],
      "text/plain": [
       "             test_word  response_pattern\n",
       "target_word                             \n",
       "jaffa             1862              1862\n",
       "qajaq             1816              1816\n",
       "mamma             1751              1751\n",
       "baboo             1676              1676\n",
       "kazoo             1667              1667"
      ]
     },
     "execution_count": 95,
     "metadata": {},
     "output_type": "execute_result"
    }
   ],
   "source": [
    "\n",
    "counts_df.sort_values('response_pattern', ascending=False).head(5)"
   ]
  },
  {
   "cell_type": "code",
   "execution_count": null,
   "id": "c359ebd7-eccc-4877-b485-0c8278414088",
   "metadata": {},
   "outputs": [],
   "source": [
    "\n",
    "if s.pickle_exists('english_letter_frequencies_df'):\n",
    "    letter_proportions_df = s.load_object('english_letter_frequencies_df')\n",
    "else:\n",
    "    \n",
    "    # Get proportions from word list\n",
    "    import collections\n",
    "\n",
    "    letters_list = []\n",
    "    for word_str in words_list:\n",
    "        letters_list += list(word_str)\n",
    "    counter = collections.Counter(letters_list)\n",
    "    letter_proportions_df = pd.DataFrame([{'letter_char': x, 'letter_count': y} for x, y in dict(counter).items()])\n",
    "    min_count = letter_proportions_df.letter_count.min()\n",
    "    letter_proportions_df['proportion'] = letter_proportions_df.letter_count.map(lambda x: x/min_count)\n",
    "    s.store_objects(english_letter_frequencies_df=letter_proportions_df)"
   ]
  },
  {
   "cell_type": "code",
   "execution_count": null,
   "id": "f7998f7b-c11b-4fb6-b377-0714029ee27d",
   "metadata": {},
   "outputs": [],
   "source": [
    "\n",
    "import random\n",
    "\n",
    "random.sample(words_list, 5)"
   ]
  },
  {
   "cell_type": "code",
   "execution_count": null,
   "id": "a2e2e582-41a4-4883-816a-e3c4f9e32b09",
   "metadata": {},
   "outputs": [],
   "source": [
    "\n",
    "letter_proportions_df.sample(5)"
   ]
  },
  {
   "cell_type": "code",
   "execution_count": null,
   "id": "60784307-9098-462e-9b60-8ebb82a74570",
   "metadata": {},
   "outputs": [],
   "source": [
    "\n",
    "mask_series = (letter_proportions_df.letter_char == 'e')\n",
    "letter_proportions_df[mask_series]"
   ]
  },
  {
   "cell_type": "code",
   "execution_count": null,
   "id": "caadc25d-db2c-40b6-80a9-85b46285a8be",
   "metadata": {},
   "outputs": [],
   "source": [
    "\n",
    "letter_proportions_df.sort_values('proportion')"
   ]
  },
  {
   "cell_type": "markdown",
   "id": "63baa5d4-f095-4634-b382-7258a0c60cf4",
   "metadata": {},
   "source": [
    "\n",
    "----"
   ]
  },
  {
   "cell_type": "code",
   "execution_count": null,
   "id": "f8075915-b84c-44a1-8c90-1b2cb7c428b4",
   "metadata": {},
   "outputs": [],
   "source": [
    "\n",
    "pattern_groupby = response_patterns_df.groupby('response_pattern').count()"
   ]
  },
  {
   "cell_type": "code",
   "execution_count": null,
   "id": "ad4f1f5e-e291-497a-9fbd-a791017b579b",
   "metadata": {},
   "outputs": [],
   "source": [
    "\n",
    "pattern_groupby.sort_values('test_word', ascending=False).head(5)"
   ]
  },
  {
   "cell_type": "code",
   "execution_count": null,
   "id": "1df0c52f-37b7-4748-bbcc-0598b4e5a14d",
   "metadata": {},
   "outputs": [],
   "source": [
    "\n",
    "mask_series = response_patterns_df.target_word.isin(candidates_list)\n",
    "pattern_groupby = response_patterns_df[mask_series].groupby('response_pattern').count().sort_values('test_word', ascending=False)\n",
    "pattern_groupby.head(5)"
   ]
  },
  {
   "cell_type": "code",
   "execution_count": null,
   "id": "f29c92bd-88dd-41a7-be00-cf40facbdf1e",
   "metadata": {},
   "outputs": [],
   "source": [
    "\n",
    "pattern_groupby.tail(5)"
   ]
  },
  {
   "cell_type": "code",
   "execution_count": null,
   "id": "c341a1dd-5470-4010-8954-93112948b8d5",
   "metadata": {},
   "outputs": [],
   "source": [
    "\n",
    "mask_series = response_patterns_df.target_word.isin(candidates_list) & (response_patterns_df.response_pattern.isin(['GGYGY', 'GYGGY', 'GYxGG']))\n",
    "response_patterns_df[mask_series]"
   ]
  },
  {
   "cell_type": "code",
   "execution_count": null,
   "id": "a39d2c1a-4069-405e-be63-99af23ddf162",
   "metadata": {},
   "outputs": [],
   "source": [
    "\n",
    "mask_series = response_patterns_df.test_word.isin(['arise'])\n",
    "pattern_groupby = response_patterns_df[mask_series].groupby('response_pattern').count().sort_values('test_word', ascending=False)\n",
    "pattern_groupby.head(5)"
   ]
  },
  {
   "cell_type": "code",
   "execution_count": null,
   "id": "53616476-00d4-4882-b418-d663e1f78d4a",
   "metadata": {},
   "outputs": [],
   "source": [
    "\n",
    "test_list = ['arise']\n",
    "pattern_groupby.loc[test_list]"
   ]
  },
  {
   "cell_type": "code",
   "execution_count": null,
   "id": "eab0fa28-c499-487b-96a4-452050d82011",
   "metadata": {},
   "outputs": [],
   "source": [
    "\n",
    "# Get words from GloVe: Global Vectors for Word Representation\n",
    "import re\n",
    "\n",
    "words_list = []\n",
    "file_path = r'D:\\Documents\\GitHub\\job-hunting\\data\\6B\\glove.6B.300d.txt'\n",
    "az_regex = re.compile('[^a-z]')\n",
    "with open(file_path, encoding='utf8') as infile:\n",
    "    for line in infile:\n",
    "        word_str = line.split()[0]\n",
    "        if (len(word_str) == 5) and not az_regex.search(word_str):\n",
    "            words_list.append(word_str)\n",
    "words_list.remove('aerio')\n",
    "words_list.remove('ioane')\n",
    "words_list.remove('eonia')\n",
    "words_list.remove('tabou')\n",
    "words_list.remove('tamou')\n",
    "words_list.remove('tarom')\n",
    "words_list.remove('tarmo')\n",
    "words_list.remove('marot')\n",
    "words_list.remove('marto')"
   ]
  },
  {
   "cell_type": "code",
   "execution_count": null,
   "id": "1b8dfa2b-5342-4ba3-a02c-a6c05f371a76",
   "metadata": {},
   "outputs": [],
   "source": [
    "\n",
    "def build_lists(candidate_word, colors_list, greys_list=None, yellows_list=None, greens_list=None):\n",
    "    if greys_list is None: greys_list = []\n",
    "    if yellows_list is None: yellows_list = []\n",
    "    if greens_list is None: greens_list = []\n",
    "    for color, index in zip(range(len(candidate_word)), colors_list):\n",
    "        if color == 'grey':\n",
    "            greys_list.append(candidate_word[index])\n",
    "        elif color == 'yellow':\n",
    "            yellows_list.append(candidate_word[index])\n",
    "        elif color == 'green':\n",
    "            greens_list.append(f\"(candidate_word[{index}] == '{candidate_word[index]}')\")\n",
    "    \n",
    "    return greys_list, yellows_list, greens_list"
   ]
  },
  {
   "cell_type": "code",
   "execution_count": null,
   "id": "4cd75bab-b1a4-452d-8c8a-5b493daeea94",
   "metadata": {},
   "outputs": [],
   "source": [
    "\n",
    "def get_largest_equivalence_class(candidates_list, base_greys_list=None, base_yellows_list=None, base_greens_list=None):\n",
    "    if base_greys_list is None: base_greys_list = []\n",
    "    if base_yellows_list is None: base_yellows_list = []\n",
    "    if base_greens_list is None: base_greens_list = []\n",
    "    max_possibles_list = []\n",
    "    max_candidate_word = ''\n",
    "    for candidate_word in candidates_list:\n",
    "        possibles_list = []\n",
    "        for color1 in ['grey', 'yellow', 'green']:\n",
    "            for color2 in ['grey', 'yellow', 'green']:\n",
    "                for color3 in ['grey', 'yellow', 'green']:\n",
    "                    for color4 in ['grey', 'yellow', 'green']:\n",
    "                        for color5 in ['grey', 'yellow', 'green']:\n",
    "                            colors_list = [color1, color2, color3, color4, color5]\n",
    "                            greys_list, yellows_list, greens_list = build_lists(candidate_word, colors_list,\n",
    "                                                                                base_greys_list, base_yellows_list, base_greens_list)\n",
    "                            if all(map(lambda x: eval(x), greens_list)):\n",
    "                                if all(map(lambda x: x in word_str, yellows_list)):\n",
    "                                    if all(map(lambda x: x not in word_str, greys_list)):\n",
    "                                        possibles_list.append(candidate_word)"
   ]
  },
  {
   "cell_type": "code",
   "execution_count": null,
   "id": "03f74fde-8cb4-416f-b0b7-c1eadda5c899",
   "metadata": {},
   "outputs": [],
   "source": [
    "\n",
    "for word_str in candidates_list:\n",
    "    greys_list = ['a', 'i', 's']\n",
    "    yellows_list = ['r']\n",
    "    greens_list = [\"(candidate_word[4] == 'e')\"]\n",
    "    max_possibles_list = get_largest_equivalence_class(word_str, base_greys_list=greys_list, base_yellows_list=yellows_list, base_greens_list=greens_list)"
   ]
  },
  {
   "cell_type": "code",
   "execution_count": null,
   "id": "f53706f0-4bd1-4d27-b4d0-57e5237cb47d",
   "metadata": {},
   "outputs": [],
   "source": [
    "\n",
    "if s.pickle_exists('english_word_frequencies_df'):\n",
    "    word_proportions_df = s.load_object('english_word_frequencies_df')\n",
    "else:\n",
    "    \n",
    "    # Get words from the Wordle JavaScript\n",
    "    if s.pickle_exists('wordle_words_list'):\n",
    "        words_list = s.load_object('wordle_words_list')\n",
    "    else:\n",
    "\n",
    "        # Get words from the Wordle JavaScript\n",
    "        import requests\n",
    "\n",
    "        link = 'https://www.powerlanguage.co.uk/wordle/main.db1931a8.js'\n",
    "        f = requests.get(link)\n",
    "        commands_list = f.text.split(';')\n",
    "        list_str = commands_list[331].split(']')[0].split('[')[1]\n",
    "        words_list = eval(f'[{list_str}]')\n",
    "        s.store_objects(wordle_words_list=words_list)\n",
    "        \n",
    "    rows_list = [{'word_str': word_str, 'proportion_score': get_proportion_score(word_str)} for word_str in words_list]\n",
    "    word_proportions_df = pd.DataFrame(rows_list)\n",
    "    s.store_objects(english_word_frequencies_df=word_proportions_df)"
   ]
  },
  {
   "cell_type": "code",
   "execution_count": null,
   "id": "a4a1a5d9-315a-4136-9fc9-7a7faf92c510",
   "metadata": {},
   "outputs": [],
   "source": [
    "\n",
    "word_proportions_df.sample(5)"
   ]
  },
  {
   "cell_type": "code",
   "execution_count": null,
   "id": "c66b7266-269e-4978-93b4-e6538b27567d",
   "metadata": {},
   "outputs": [],
   "source": [
    "\n",
    "proportion_score_dict = word_proportions_df.set_index('word_str').proportion_score.to_dict()"
   ]
  },
  {
   "cell_type": "raw",
   "id": "307a8a6e-86b1-4e11-a1f3-7d4e7aff9ae7",
   "metadata": {},
   "source": [
    "\n",
    "if s.pickle_exists('english_word_frequencies_df'):\n",
    "    word_proportions_df = s.load_object('english_word_frequencies_df')\n",
    "else:\n",
    "    \n",
    "    # Get words from the word list\n",
    "    if s.pickle_exists('glove_english_five_letter_words_list'):\n",
    "        words_list = s.load_object('glove_english_five_letter_words_list')\n",
    "    else:\n",
    "        \n",
    "        # Get words from GloVe: Global Vectors for Word Representation\n",
    "        import re\n",
    "        \n",
    "        words_list = []\n",
    "        file_path = r'D:\\Documents\\GitHub\\job-hunting\\data\\6B\\glove.6B.300d.txt'\n",
    "        az_regex = re.compile('[^a-z]')\n",
    "        with open(file_path, encoding='utf8') as infile:\n",
    "            for line in infile:\n",
    "                word_str = line.split()[0]\n",
    "                if (len(word_str) == 5) and not az_regex.search(word_str):\n",
    "                    words_list.append(word_str)\n",
    "        \n",
    "        words_list.remove('aerio')\n",
    "        words_list.remove('ioane')\n",
    "        words_list.remove('eonia')\n",
    "        words_list.remove('sunol')\n",
    "        words_list.remove('solun')\n",
    "        words_list.remove('skuld')\n",
    "        s.store_objects(glove_english_five_letter_words_list=words_list)\n",
    "    rows_list = [{'word_str': word_str, 'proportion_score': get_proportion_score(word_str)} for word_str in words_list]\n",
    "    word_proportions_df = pd.DataFrame(rows_list)\n",
    "    s.store_objects(english_word_frequencies_df=word_proportions_df)"
   ]
  },
  {
   "cell_type": "raw",
   "id": "6b276b57-2ae0-4c93-96bf-bb0a4d1a5aec",
   "metadata": {},
   "source": [
    "\n",
    "if s.pickle_exists('popular_english_five_letter_words_list'):\n",
    "    words_list = s.load_object('popular_english_five_letter_words_list')\n",
    "else:\n",
    "    %run ../load_magic/soup.py\n",
    "\n",
    "    file_path = '../data/html/five_letter_words.html'\n",
    "    page_soup = get_page_soup(file_path)\n",
    "    words_list = []\n",
    "    for word_li in page_soup.select('li'):\n",
    "        word_str = word_li.text.lower()\n",
    "        words_list.append(word_str)\n",
    "    s.store_objects(popular_english_five_letter_words_list=words_list)"
   ]
  },
  {
   "cell_type": "raw",
   "id": "d71f6c15-e4c7-46d3-8ddd-e29644d9d536",
   "metadata": {},
   "source": [
    "\n",
    "if s.pickle_exists('english_letter_frequencies_df'):\n",
    "    letter_proportions_df = s.load_object('english_letter_frequencies_df')\n",
    "else:\n",
    "    \n",
    "    # Get proportions from cryptography web page\n",
    "    %run ../load_magic/dataframes.py\n",
    "\n",
    "    url = 'https://www3.nd.edu/~busiforc/handouts/cryptography/letterfrequencies.html'\n",
    "    dfs_list = get_page_tables(url, verbose=True)\n",
    "    letter_proportions_df = dfs_list[2].copy()\n",
    "    left_columns_list = [0, 1, 2]\n",
    "    left_df = letter_proportions_df[left_columns_list].rename(columns={0: 'letter_char', 1: 'frequency', 2: 'proportion'})\n",
    "    right_columns_list = [3, 4, 5]\n",
    "    right_df = letter_proportions_df[right_columns_list].rename(columns={3: 'letter_char', 4: 'frequency', 5: 'proportion'})\n",
    "    letter_proportions_df = pd.concat([left_df, right_df])\n",
    "    letter_proportions_df.letter_char = letter_proportions_df.letter_char.map(lambda x: x.lower())\n",
    "    def f(proportion):\n",
    "        if proportion == '(1)':\n",
    "            proportion = 1.0\n",
    "        else:\n",
    "            proportion = float(proportion)\n",
    "\n",
    "        return proportion\n",
    "    letter_proportions_df.proportion = letter_proportions_df.proportion.map(f)\n",
    "    s.store_objects(english_letter_frequencies_df=letter_proportions_df)"
   ]
  },
  {
   "cell_type": "code",
   "execution_count": null,
   "id": "9bff26a0-9736-401c-b115-e1aab7f4723e",
   "metadata": {},
   "outputs": [],
   "source": []
  }
 ],
 "metadata": {
  "kernelspec": {
   "display_name": "Python 3 (ipykernel)",
   "language": "python",
   "name": "python3"
  },
  "language_info": {
   "codemirror_mode": {
    "name": "ipython",
    "version": 3
   },
   "file_extension": ".py",
   "mimetype": "text/x-python",
   "name": "python",
   "nbconvert_exporter": "python",
   "pygments_lexer": "ipython3",
   "version": "3.9.7"
  }
 },
 "nbformat": 4,
 "nbformat_minor": 5
}
